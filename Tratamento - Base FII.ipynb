{
 "cells": [
  {
   "cell_type": "code",
   "execution_count": 46,
   "id": "7146a278",
   "metadata": {},
   "outputs": [],
   "source": [
    "import numpy as np\n",
    "import pandas as pd\n",
    "\n",
    "#importa as bibliotecas"
   ]
  },
  {
   "cell_type": "code",
   "execution_count": 47,
   "id": "d8c55a70",
   "metadata": {},
   "outputs": [
    {
     "data": {
      "text/plain": [
       "(353, 8)"
      ]
     },
     "execution_count": 47,
     "metadata": {},
     "output_type": "execute_result"
    }
   ],
   "source": [
    "df = pd.read_csv('data_fii_raw.csv', sep=';', decimal='.') #importa a base de dados\n",
    "df.shape # identifica o tamanho da base de dados, nesse caso, 353 linhas e 8 colunas. "
   ]
  },
  {
   "cell_type": "code",
   "execution_count": 48,
   "id": "9c6f0877",
   "metadata": {},
   "outputs": [
    {
     "data": {
      "text/html": [
       "<div>\n",
       "<style scoped>\n",
       "    .dataframe tbody tr th:only-of-type {\n",
       "        vertical-align: middle;\n",
       "    }\n",
       "\n",
       "    .dataframe tbody tr th {\n",
       "        vertical-align: top;\n",
       "    }\n",
       "\n",
       "    .dataframe thead th {\n",
       "        text-align: right;\n",
       "    }\n",
       "</style>\n",
       "<table border=\"1\" class=\"dataframe\">\n",
       "  <thead>\n",
       "    <tr style=\"text-align: right;\">\n",
       "      <th></th>\n",
       "      <th>nome_fii</th>\n",
       "      <th>liq diaria</th>\n",
       "      <th>ultimo rend</th>\n",
       "      <th>yield</th>\n",
       "      <th>patrim liquido</th>\n",
       "      <th>valor patrim</th>\n",
       "      <th>rent mes</th>\n",
       "      <th>p/vp</th>\n",
       "    </tr>\n",
       "  </thead>\n",
       "  <tbody>\n",
       "    <tr>\n",
       "      <th>0</th>\n",
       "      <td>ABCP11</td>\n",
       "      <td>1.721</td>\n",
       "      <td>R$ 0,65</td>\n",
       "      <td>0,88%</td>\n",
       "      <td>R$ 1,1 bi</td>\n",
       "      <td>R$ 91,83</td>\n",
       "      <td>-0,60%</td>\n",
       "      <td>0,79</td>\n",
       "    </tr>\n",
       "    <tr>\n",
       "      <th>1</th>\n",
       "      <td>AFCR11</td>\n",
       "      <td>957</td>\n",
       "      <td>R$ 1,30</td>\n",
       "      <td>1,25%</td>\n",
       "      <td>R$ 154,9 mi</td>\n",
       "      <td>R$ 102,29</td>\n",
       "      <td>1,05%</td>\n",
       "      <td>1,01</td>\n",
       "    </tr>\n",
       "    <tr>\n",
       "      <th>2</th>\n",
       "      <td>AFHI11</td>\n",
       "      <td>28.440</td>\n",
       "      <td>R$ 1,35</td>\n",
       "      <td>1,36%</td>\n",
       "      <td>R$ 173,8 mi</td>\n",
       "      <td>R$ 97,24</td>\n",
       "      <td>-2,21%</td>\n",
       "      <td>1,10</td>\n",
       "    </tr>\n",
       "    <tr>\n",
       "      <th>3</th>\n",
       "      <td>AFOF11</td>\n",
       "      <td>1.863</td>\n",
       "      <td>R$ 0,60</td>\n",
       "      <td>1,28%</td>\n",
       "      <td>R$ 70,7 mi</td>\n",
       "      <td>R$ 102,32</td>\n",
       "      <td>-4,13%</td>\n",
       "      <td>0,87</td>\n",
       "    </tr>\n",
       "    <tr>\n",
       "      <th>4</th>\n",
       "      <td>AIEC11</td>\n",
       "      <td>1.639</td>\n",
       "      <td>R$ 0,72</td>\n",
       "      <td>0,90%</td>\n",
       "      <td>R$ 488,5 mi</td>\n",
       "      <td>R$ 101,24</td>\n",
       "      <td>-3,08%</td>\n",
       "      <td>0,79</td>\n",
       "    </tr>\n",
       "  </tbody>\n",
       "</table>\n",
       "</div>"
      ],
      "text/plain": [
       "  nome_fii liq diaria ultimo rend  yield patrim liquido valor patrim rent mes  \\\n",
       "0   ABCP11      1.721     R$ 0,65  0,88%      R$ 1,1 bi     R$ 91,83   -0,60%   \n",
       "1   AFCR11        957     R$ 1,30  1,25%    R$ 154,9 mi    R$ 102,29    1,05%   \n",
       "2   AFHI11     28.440     R$ 1,35  1,36%    R$ 173,8 mi     R$ 97,24   -2,21%   \n",
       "3   AFOF11      1.863     R$ 0,60  1,28%     R$ 70,7 mi    R$ 102,32   -4,13%   \n",
       "4   AIEC11      1.639     R$ 0,72  0,90%    R$ 488,5 mi    R$ 101,24   -3,08%   \n",
       "\n",
       "   p/vp  \n",
       "0  0,79  \n",
       "1  1,01  \n",
       "2  1,10  \n",
       "3  0,87  \n",
       "4  0,79  "
      ]
     },
     "execution_count": 48,
     "metadata": {},
     "output_type": "execute_result"
    }
   ],
   "source": [
    "df.head()"
   ]
  },
  {
   "cell_type": "code",
   "execution_count": 49,
   "id": "3a663d6f",
   "metadata": {},
   "outputs": [
    {
     "data": {
      "text/plain": [
       "nome_fii          object\n",
       "liq diaria        object\n",
       "ultimo rend       object\n",
       "yield             object\n",
       "patrim liquido    object\n",
       "valor patrim      object\n",
       "rent mes          object\n",
       "p/vp              object\n",
       "dtype: object"
      ]
     },
     "execution_count": 49,
     "metadata": {},
     "output_type": "execute_result"
    }
   ],
   "source": [
    "df.dtypes #identifica o tipo dos elementos em cada coluna"
   ]
  },
  {
   "cell_type": "code",
   "execution_count": 50,
   "id": "e14eaffb",
   "metadata": {},
   "outputs": [
    {
     "data": {
      "text/plain": [
       "nome_fii           0\n",
       "liq diaria        30\n",
       "ultimo rend       20\n",
       "yield             36\n",
       "patrim liquido     6\n",
       "valor patrim       6\n",
       "rent mes          33\n",
       "p/vp              30\n",
       "dtype: int64"
      ]
     },
     "execution_count": 50,
     "metadata": {},
     "output_type": "execute_result"
    }
   ],
   "source": [
    "df.isnull().sum() #retorna a quantidade de elementos nulos em cada coluna"
   ]
  },
  {
   "cell_type": "code",
   "execution_count": 51,
   "id": "57ed6e89",
   "metadata": {},
   "outputs": [],
   "source": [
    "df = df.fillna('0') #zera os elementos com valor nulo"
   ]
  },
  {
   "cell_type": "code",
   "execution_count": 52,
   "id": "717c19be",
   "metadata": {},
   "outputs": [
    {
     "data": {
      "text/plain": [
       "nome_fii          0\n",
       "liq diaria        0\n",
       "ultimo rend       0\n",
       "yield             0\n",
       "patrim liquido    0\n",
       "valor patrim      0\n",
       "rent mes          0\n",
       "p/vp              0\n",
       "dtype: int64"
      ]
     },
     "execution_count": 52,
     "metadata": {},
     "output_type": "execute_result"
    }
   ],
   "source": [
    "df.isnull().sum() #mostra a quantidade de elementos nulos depois que os valores nulos foram zerados"
   ]
  },
  {
   "cell_type": "code",
   "execution_count": 53,
   "id": "0335788e",
   "metadata": {},
   "outputs": [
    {
     "name": "stderr",
     "output_type": "stream",
     "text": [
      "C:\\Users\\Vinícius Tejadas\\AppData\\Local\\Temp\\ipykernel_23348\\1119355402.py:1: FutureWarning: The default value of regex will change from True to False in a future version. In addition, single character regular expressions will *not* be treated as literal strings when regex=True.\n",
      "  df['liq diaria'] = df['liq diaria'].str.replace('.','').astype(int) #apaguei os pontos dos valores da coluna para converter a str em int\n"
     ]
    }
   ],
   "source": [
    "df['liq diaria'] = df['liq diaria'].str.replace('.','').astype(int) #apaguei os pontos dos valores da coluna para converter a str em int"
   ]
  },
  {
   "cell_type": "code",
   "execution_count": 54,
   "id": "5794f8be",
   "metadata": {},
   "outputs": [
    {
     "data": {
      "text/html": [
       "<div>\n",
       "<style scoped>\n",
       "    .dataframe tbody tr th:only-of-type {\n",
       "        vertical-align: middle;\n",
       "    }\n",
       "\n",
       "    .dataframe tbody tr th {\n",
       "        vertical-align: top;\n",
       "    }\n",
       "\n",
       "    .dataframe thead th {\n",
       "        text-align: right;\n",
       "    }\n",
       "</style>\n",
       "<table border=\"1\" class=\"dataframe\">\n",
       "  <thead>\n",
       "    <tr style=\"text-align: right;\">\n",
       "      <th></th>\n",
       "      <th>nome_fii</th>\n",
       "      <th>liq diaria</th>\n",
       "      <th>ultimo rend</th>\n",
       "      <th>yield</th>\n",
       "      <th>patrim liquido</th>\n",
       "      <th>valor patrim</th>\n",
       "      <th>rent mes</th>\n",
       "      <th>p/vp</th>\n",
       "    </tr>\n",
       "  </thead>\n",
       "  <tbody>\n",
       "    <tr>\n",
       "      <th>0</th>\n",
       "      <td>ABCP11</td>\n",
       "      <td>1721</td>\n",
       "      <td>R$ 0,65</td>\n",
       "      <td>0,88%</td>\n",
       "      <td>R$ 1,1 bi</td>\n",
       "      <td>R$ 91,83</td>\n",
       "      <td>-0,60%</td>\n",
       "      <td>0,79</td>\n",
       "    </tr>\n",
       "    <tr>\n",
       "      <th>1</th>\n",
       "      <td>AFCR11</td>\n",
       "      <td>957</td>\n",
       "      <td>R$ 1,30</td>\n",
       "      <td>1,25%</td>\n",
       "      <td>R$ 154,9 mi</td>\n",
       "      <td>R$ 102,29</td>\n",
       "      <td>1,05%</td>\n",
       "      <td>1,01</td>\n",
       "    </tr>\n",
       "    <tr>\n",
       "      <th>2</th>\n",
       "      <td>AFHI11</td>\n",
       "      <td>28440</td>\n",
       "      <td>R$ 1,35</td>\n",
       "      <td>1,36%</td>\n",
       "      <td>R$ 173,8 mi</td>\n",
       "      <td>R$ 97,24</td>\n",
       "      <td>-2,21%</td>\n",
       "      <td>1,10</td>\n",
       "    </tr>\n",
       "    <tr>\n",
       "      <th>3</th>\n",
       "      <td>AFOF11</td>\n",
       "      <td>1863</td>\n",
       "      <td>R$ 0,60</td>\n",
       "      <td>1,28%</td>\n",
       "      <td>R$ 70,7 mi</td>\n",
       "      <td>R$ 102,32</td>\n",
       "      <td>-4,13%</td>\n",
       "      <td>0,87</td>\n",
       "    </tr>\n",
       "    <tr>\n",
       "      <th>4</th>\n",
       "      <td>AIEC11</td>\n",
       "      <td>1639</td>\n",
       "      <td>R$ 0,72</td>\n",
       "      <td>0,90%</td>\n",
       "      <td>R$ 488,5 mi</td>\n",
       "      <td>R$ 101,24</td>\n",
       "      <td>-3,08%</td>\n",
       "      <td>0,79</td>\n",
       "    </tr>\n",
       "  </tbody>\n",
       "</table>\n",
       "</div>"
      ],
      "text/plain": [
       "  nome_fii  liq diaria ultimo rend  yield patrim liquido valor patrim  \\\n",
       "0   ABCP11        1721     R$ 0,65  0,88%      R$ 1,1 bi     R$ 91,83   \n",
       "1   AFCR11         957     R$ 1,30  1,25%    R$ 154,9 mi    R$ 102,29   \n",
       "2   AFHI11       28440     R$ 1,35  1,36%    R$ 173,8 mi     R$ 97,24   \n",
       "3   AFOF11        1863     R$ 0,60  1,28%     R$ 70,7 mi    R$ 102,32   \n",
       "4   AIEC11        1639     R$ 0,72  0,90%    R$ 488,5 mi    R$ 101,24   \n",
       "\n",
       "  rent mes  p/vp  \n",
       "0   -0,60%  0,79  \n",
       "1    1,05%  1,01  \n",
       "2   -2,21%  1,10  \n",
       "3   -4,13%  0,87  \n",
       "4   -3,08%  0,79  "
      ]
     },
     "execution_count": 54,
     "metadata": {},
     "output_type": "execute_result"
    }
   ],
   "source": [
    "df.head()"
   ]
  },
  {
   "cell_type": "code",
   "execution_count": 55,
   "id": "e2f098e0",
   "metadata": {},
   "outputs": [],
   "source": [
    "df['ultimo rend'] = df['ultimo rend'].str.replace('R$ ','', regex=False)\n",
    "df['ultimo rend'] = df['ultimo rend'].str.replace(',','.', regex=False).astype(float)"
   ]
  },
  {
   "cell_type": "code",
   "execution_count": 56,
   "id": "72c41925",
   "metadata": {},
   "outputs": [
    {
     "data": {
      "text/plain": [
       "0       0.65\n",
       "1       1.30\n",
       "2       1.35\n",
       "3       0.60\n",
       "4       0.72\n",
       "       ...  \n",
       "348     0.45\n",
       "349     0.68\n",
       "350     0.00\n",
       "351    19.41\n",
       "352     0.79\n",
       "Name: ultimo rend, Length: 353, dtype: float64"
      ]
     },
     "execution_count": 56,
     "metadata": {},
     "output_type": "execute_result"
    }
   ],
   "source": [
    "df['ultimo rend']"
   ]
  },
  {
   "cell_type": "code",
   "execution_count": 57,
   "id": "eed03d89",
   "metadata": {},
   "outputs": [],
   "source": [
    "df['yield'] = df['yield'].str.replace(',','.', regex=False)\n",
    "df['yield'] = df['yield'].str.replace('%','', regex=False).astype(float)/100"
   ]
  },
  {
   "cell_type": "code",
   "execution_count": 58,
   "id": "74c6c7b6",
   "metadata": {},
   "outputs": [
    {
     "data": {
      "text/plain": [
       "0      0.0088\n",
       "1      0.0125\n",
       "2      0.0136\n",
       "3      0.0128\n",
       "4      0.0090\n",
       "        ...  \n",
       "348    0.0077\n",
       "349    0.0093\n",
       "350    0.0000\n",
       "351    0.0194\n",
       "352    0.0000\n",
       "Name: yield, Length: 353, dtype: float64"
      ]
     },
     "execution_count": 58,
     "metadata": {},
     "output_type": "execute_result"
    }
   ],
   "source": [
    "df['yield']"
   ]
  },
  {
   "cell_type": "code",
   "execution_count": 59,
   "id": "3372d1be",
   "metadata": {},
   "outputs": [
    {
     "data": {
      "text/plain": [
       "10000000.0"
      ]
     },
     "execution_count": 59,
     "metadata": {},
     "output_type": "execute_result"
    }
   ],
   "source": [
    "def trata_patr_liq(x = 'R$ 10,00 mi'):\n",
    "    x = x.replace('R$ ','')\n",
    "    x = x.replace('.','')\n",
    "    x = x.replace(',','.')\n",
    "    x = x.split(' ')\n",
    "    if x[-1] == 'mi':\n",
    "        x = float(x[0])*10**6\n",
    "    elif x[-1] == 'bi':\n",
    "        x = float(x[0])*10**9\n",
    "\n",
    "    if type(x) == type(list()):\n",
    "        x = float(x[0])\n",
    "    return x\n",
    "\n",
    "trata_patr_liq()"
   ]
  },
  {
   "cell_type": "code",
   "execution_count": 60,
   "id": "1a3cbd6e",
   "metadata": {},
   "outputs": [],
   "source": [
    "df['patrim liquido'] = df['patrim liquido'].apply(lambda x: trata_patr_liq(x))"
   ]
  },
  {
   "cell_type": "code",
   "execution_count": 61,
   "id": "b1f31d3f",
   "metadata": {},
   "outputs": [
    {
     "data": {
      "text/html": [
       "<div>\n",
       "<style scoped>\n",
       "    .dataframe tbody tr th:only-of-type {\n",
       "        vertical-align: middle;\n",
       "    }\n",
       "\n",
       "    .dataframe tbody tr th {\n",
       "        vertical-align: top;\n",
       "    }\n",
       "\n",
       "    .dataframe thead th {\n",
       "        text-align: right;\n",
       "    }\n",
       "</style>\n",
       "<table border=\"1\" class=\"dataframe\">\n",
       "  <thead>\n",
       "    <tr style=\"text-align: right;\">\n",
       "      <th></th>\n",
       "      <th>nome_fii</th>\n",
       "      <th>liq diaria</th>\n",
       "      <th>ultimo rend</th>\n",
       "      <th>yield</th>\n",
       "      <th>patrim liquido</th>\n",
       "      <th>valor patrim</th>\n",
       "      <th>rent mes</th>\n",
       "      <th>p/vp</th>\n",
       "    </tr>\n",
       "  </thead>\n",
       "  <tbody>\n",
       "    <tr>\n",
       "      <th>0</th>\n",
       "      <td>ABCP11</td>\n",
       "      <td>1721</td>\n",
       "      <td>0.65</td>\n",
       "      <td>0.0088</td>\n",
       "      <td>1.100000e+09</td>\n",
       "      <td>R$ 91,83</td>\n",
       "      <td>-0,60%</td>\n",
       "      <td>0,79</td>\n",
       "    </tr>\n",
       "    <tr>\n",
       "      <th>1</th>\n",
       "      <td>AFCR11</td>\n",
       "      <td>957</td>\n",
       "      <td>1.30</td>\n",
       "      <td>0.0125</td>\n",
       "      <td>1.549000e+08</td>\n",
       "      <td>R$ 102,29</td>\n",
       "      <td>1,05%</td>\n",
       "      <td>1,01</td>\n",
       "    </tr>\n",
       "    <tr>\n",
       "      <th>2</th>\n",
       "      <td>AFHI11</td>\n",
       "      <td>28440</td>\n",
       "      <td>1.35</td>\n",
       "      <td>0.0136</td>\n",
       "      <td>1.738000e+08</td>\n",
       "      <td>R$ 97,24</td>\n",
       "      <td>-2,21%</td>\n",
       "      <td>1,10</td>\n",
       "    </tr>\n",
       "    <tr>\n",
       "      <th>3</th>\n",
       "      <td>AFOF11</td>\n",
       "      <td>1863</td>\n",
       "      <td>0.60</td>\n",
       "      <td>0.0128</td>\n",
       "      <td>7.070000e+07</td>\n",
       "      <td>R$ 102,32</td>\n",
       "      <td>-4,13%</td>\n",
       "      <td>0,87</td>\n",
       "    </tr>\n",
       "    <tr>\n",
       "      <th>4</th>\n",
       "      <td>AIEC11</td>\n",
       "      <td>1639</td>\n",
       "      <td>0.72</td>\n",
       "      <td>0.0090</td>\n",
       "      <td>4.885000e+08</td>\n",
       "      <td>R$ 101,24</td>\n",
       "      <td>-3,08%</td>\n",
       "      <td>0,79</td>\n",
       "    </tr>\n",
       "  </tbody>\n",
       "</table>\n",
       "</div>"
      ],
      "text/plain": [
       "  nome_fii  liq diaria  ultimo rend   yield  patrim liquido valor patrim  \\\n",
       "0   ABCP11        1721         0.65  0.0088    1.100000e+09     R$ 91,83   \n",
       "1   AFCR11         957         1.30  0.0125    1.549000e+08    R$ 102,29   \n",
       "2   AFHI11       28440         1.35  0.0136    1.738000e+08     R$ 97,24   \n",
       "3   AFOF11        1863         0.60  0.0128    7.070000e+07    R$ 102,32   \n",
       "4   AIEC11        1639         0.72  0.0090    4.885000e+08    R$ 101,24   \n",
       "\n",
       "  rent mes  p/vp  \n",
       "0   -0,60%  0,79  \n",
       "1    1,05%  1,01  \n",
       "2   -2,21%  1,10  \n",
       "3   -4,13%  0,87  \n",
       "4   -3,08%  0,79  "
      ]
     },
     "execution_count": 61,
     "metadata": {},
     "output_type": "execute_result"
    }
   ],
   "source": [
    "df.head()"
   ]
  },
  {
   "cell_type": "code",
   "execution_count": 62,
   "id": "d3fabf47",
   "metadata": {},
   "outputs": [],
   "source": [
    "df['valor patrim'] = df['valor patrim'].str.replace('R$ ', '', regex=False)\n",
    "df['valor patrim'] = df['valor patrim'].str.replace('.','', regex=False)\n",
    "df['valor patrim'] = df['valor patrim'].str.replace(',','.', regex=False).astype(float)"
   ]
  },
  {
   "cell_type": "code",
   "execution_count": 63,
   "id": "39787a42",
   "metadata": {},
   "outputs": [],
   "source": [
    "df['rent mes'] = df['rent mes'].str.replace('%', '', regex=False)\n",
    "df['rent mes'] = df['rent mes'].str.replace(',', '.', regex=False).astype(float)/100"
   ]
  },
  {
   "cell_type": "code",
   "execution_count": 64,
   "id": "0d2fcc9c",
   "metadata": {},
   "outputs": [
    {
     "data": {
      "text/html": [
       "<div>\n",
       "<style scoped>\n",
       "    .dataframe tbody tr th:only-of-type {\n",
       "        vertical-align: middle;\n",
       "    }\n",
       "\n",
       "    .dataframe tbody tr th {\n",
       "        vertical-align: top;\n",
       "    }\n",
       "\n",
       "    .dataframe thead th {\n",
       "        text-align: right;\n",
       "    }\n",
       "</style>\n",
       "<table border=\"1\" class=\"dataframe\">\n",
       "  <thead>\n",
       "    <tr style=\"text-align: right;\">\n",
       "      <th></th>\n",
       "      <th>nome_fii</th>\n",
       "      <th>liq diaria</th>\n",
       "      <th>ultimo rend</th>\n",
       "      <th>yield</th>\n",
       "      <th>patrim liquido</th>\n",
       "      <th>valor patrim</th>\n",
       "      <th>rent mes</th>\n",
       "      <th>p/vp</th>\n",
       "    </tr>\n",
       "  </thead>\n",
       "  <tbody>\n",
       "    <tr>\n",
       "      <th>0</th>\n",
       "      <td>ABCP11</td>\n",
       "      <td>1721</td>\n",
       "      <td>0.65</td>\n",
       "      <td>0.0088</td>\n",
       "      <td>1.100000e+09</td>\n",
       "      <td>91.83</td>\n",
       "      <td>-0.0060</td>\n",
       "      <td>0,79</td>\n",
       "    </tr>\n",
       "    <tr>\n",
       "      <th>1</th>\n",
       "      <td>AFCR11</td>\n",
       "      <td>957</td>\n",
       "      <td>1.30</td>\n",
       "      <td>0.0125</td>\n",
       "      <td>1.549000e+08</td>\n",
       "      <td>102.29</td>\n",
       "      <td>0.0105</td>\n",
       "      <td>1,01</td>\n",
       "    </tr>\n",
       "    <tr>\n",
       "      <th>2</th>\n",
       "      <td>AFHI11</td>\n",
       "      <td>28440</td>\n",
       "      <td>1.35</td>\n",
       "      <td>0.0136</td>\n",
       "      <td>1.738000e+08</td>\n",
       "      <td>97.24</td>\n",
       "      <td>-0.0221</td>\n",
       "      <td>1,10</td>\n",
       "    </tr>\n",
       "    <tr>\n",
       "      <th>3</th>\n",
       "      <td>AFOF11</td>\n",
       "      <td>1863</td>\n",
       "      <td>0.60</td>\n",
       "      <td>0.0128</td>\n",
       "      <td>7.070000e+07</td>\n",
       "      <td>102.32</td>\n",
       "      <td>-0.0413</td>\n",
       "      <td>0,87</td>\n",
       "    </tr>\n",
       "    <tr>\n",
       "      <th>4</th>\n",
       "      <td>AIEC11</td>\n",
       "      <td>1639</td>\n",
       "      <td>0.72</td>\n",
       "      <td>0.0090</td>\n",
       "      <td>4.885000e+08</td>\n",
       "      <td>101.24</td>\n",
       "      <td>-0.0308</td>\n",
       "      <td>0,79</td>\n",
       "    </tr>\n",
       "  </tbody>\n",
       "</table>\n",
       "</div>"
      ],
      "text/plain": [
       "  nome_fii  liq diaria  ultimo rend   yield  patrim liquido  valor patrim  \\\n",
       "0   ABCP11        1721         0.65  0.0088    1.100000e+09         91.83   \n",
       "1   AFCR11         957         1.30  0.0125    1.549000e+08        102.29   \n",
       "2   AFHI11       28440         1.35  0.0136    1.738000e+08         97.24   \n",
       "3   AFOF11        1863         0.60  0.0128    7.070000e+07        102.32   \n",
       "4   AIEC11        1639         0.72  0.0090    4.885000e+08        101.24   \n",
       "\n",
       "   rent mes  p/vp  \n",
       "0   -0.0060  0,79  \n",
       "1    0.0105  1,01  \n",
       "2   -0.0221  1,10  \n",
       "3   -0.0413  0,87  \n",
       "4   -0.0308  0,79  "
      ]
     },
     "execution_count": 64,
     "metadata": {},
     "output_type": "execute_result"
    }
   ],
   "source": [
    "df.head()"
   ]
  },
  {
   "cell_type": "code",
   "execution_count": 65,
   "id": "b79faf66",
   "metadata": {},
   "outputs": [],
   "source": [
    "df['p/vp'] = df['p/vp'].str.replace(',', '.', regex=False).astype(float)"
   ]
  },
  {
   "cell_type": "code",
   "execution_count": 66,
   "id": "2e7a52de",
   "metadata": {},
   "outputs": [
    {
     "data": {
      "text/html": [
       "<div>\n",
       "<style scoped>\n",
       "    .dataframe tbody tr th:only-of-type {\n",
       "        vertical-align: middle;\n",
       "    }\n",
       "\n",
       "    .dataframe tbody tr th {\n",
       "        vertical-align: top;\n",
       "    }\n",
       "\n",
       "    .dataframe thead th {\n",
       "        text-align: right;\n",
       "    }\n",
       "</style>\n",
       "<table border=\"1\" class=\"dataframe\">\n",
       "  <thead>\n",
       "    <tr style=\"text-align: right;\">\n",
       "      <th></th>\n",
       "      <th>nome_fii</th>\n",
       "      <th>liq diaria</th>\n",
       "      <th>ultimo rend</th>\n",
       "      <th>yield</th>\n",
       "      <th>patrim liquido</th>\n",
       "      <th>valor patrim</th>\n",
       "      <th>rent mes</th>\n",
       "      <th>p/vp</th>\n",
       "    </tr>\n",
       "  </thead>\n",
       "  <tbody>\n",
       "    <tr>\n",
       "      <th>0</th>\n",
       "      <td>ABCP11</td>\n",
       "      <td>1721</td>\n",
       "      <td>0.65</td>\n",
       "      <td>0.0088</td>\n",
       "      <td>1.100000e+09</td>\n",
       "      <td>91.83</td>\n",
       "      <td>-0.0060</td>\n",
       "      <td>0.79</td>\n",
       "    </tr>\n",
       "    <tr>\n",
       "      <th>1</th>\n",
       "      <td>AFCR11</td>\n",
       "      <td>957</td>\n",
       "      <td>1.30</td>\n",
       "      <td>0.0125</td>\n",
       "      <td>1.549000e+08</td>\n",
       "      <td>102.29</td>\n",
       "      <td>0.0105</td>\n",
       "      <td>1.01</td>\n",
       "    </tr>\n",
       "    <tr>\n",
       "      <th>2</th>\n",
       "      <td>AFHI11</td>\n",
       "      <td>28440</td>\n",
       "      <td>1.35</td>\n",
       "      <td>0.0136</td>\n",
       "      <td>1.738000e+08</td>\n",
       "      <td>97.24</td>\n",
       "      <td>-0.0221</td>\n",
       "      <td>1.10</td>\n",
       "    </tr>\n",
       "    <tr>\n",
       "      <th>3</th>\n",
       "      <td>AFOF11</td>\n",
       "      <td>1863</td>\n",
       "      <td>0.60</td>\n",
       "      <td>0.0128</td>\n",
       "      <td>7.070000e+07</td>\n",
       "      <td>102.32</td>\n",
       "      <td>-0.0413</td>\n",
       "      <td>0.87</td>\n",
       "    </tr>\n",
       "    <tr>\n",
       "      <th>4</th>\n",
       "      <td>AIEC11</td>\n",
       "      <td>1639</td>\n",
       "      <td>0.72</td>\n",
       "      <td>0.0090</td>\n",
       "      <td>4.885000e+08</td>\n",
       "      <td>101.24</td>\n",
       "      <td>-0.0308</td>\n",
       "      <td>0.79</td>\n",
       "    </tr>\n",
       "  </tbody>\n",
       "</table>\n",
       "</div>"
      ],
      "text/plain": [
       "  nome_fii  liq diaria  ultimo rend   yield  patrim liquido  valor patrim  \\\n",
       "0   ABCP11        1721         0.65  0.0088    1.100000e+09         91.83   \n",
       "1   AFCR11         957         1.30  0.0125    1.549000e+08        102.29   \n",
       "2   AFHI11       28440         1.35  0.0136    1.738000e+08         97.24   \n",
       "3   AFOF11        1863         0.60  0.0128    7.070000e+07        102.32   \n",
       "4   AIEC11        1639         0.72  0.0090    4.885000e+08        101.24   \n",
       "\n",
       "   rent mes  p/vp  \n",
       "0   -0.0060  0.79  \n",
       "1    0.0105  1.01  \n",
       "2   -0.0221  1.10  \n",
       "3   -0.0413  0.87  \n",
       "4   -0.0308  0.79  "
      ]
     },
     "execution_count": 66,
     "metadata": {},
     "output_type": "execute_result"
    }
   ],
   "source": [
    "df.head()"
   ]
  },
  {
   "cell_type": "code",
   "execution_count": 68,
   "id": "f3196fec",
   "metadata": {},
   "outputs": [],
   "source": [
    "df.to_csv('data_fii.csv', sep=';', decimal=',', index=False)"
   ]
  }
 ],
 "metadata": {
  "kernelspec": {
   "display_name": "Python 3 (ipykernel)",
   "language": "python",
   "name": "python3"
  },
  "language_info": {
   "codemirror_mode": {
    "name": "ipython",
    "version": 3
   },
   "file_extension": ".py",
   "mimetype": "text/x-python",
   "name": "python",
   "nbconvert_exporter": "python",
   "pygments_lexer": "ipython3",
   "version": "3.9.12"
  }
 },
 "nbformat": 4,
 "nbformat_minor": 5
}
